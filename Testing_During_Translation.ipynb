{
  "nbformat": 4,
  "nbformat_minor": 0,
  "metadata": {
    "colab": {
      "name": "Testing During Translation.ipynb",
      "version": "0.3.2",
      "provenance": [],
      "collapsed_sections": [],
      "include_colab_link": true
    },
    "kernelspec": {
      "name": "python3",
      "display_name": "Python 3"
    }
  },
  "cells": [
    {
      "cell_type": "markdown",
      "metadata": {
        "id": "view-in-github",
        "colab_type": "text"
      },
      "source": [
        "<a href=\"https://colab.research.google.com/github/JulianVai/Computer-Vision-Basics-with-Python-Keras-and-OpenCV/blob/master/Testing_During_Translation.ipynb\" target=\"_parent\"><img src=\"https://colab.research.google.com/assets/colab-badge.svg\" alt=\"Open In Colab\"/></a>"
      ]
    },
    {
      "cell_type": "code",
      "metadata": {
        "id": "Zrw5CRskMcYE",
        "colab_type": "code",
        "colab": {}
      },
      "source": [
        "import requests\n",
        "import pandas as pd\n",
        "import spacy\n",
        "import html\n",
        "import csv"
      ],
      "execution_count": 0,
      "outputs": []
    },
    {
      "cell_type": "code",
      "metadata": {
        "id": "fXAgjXhTMvPZ",
        "colab_type": "code",
        "colab": {}
      },
      "source": [
        ""
      ],
      "execution_count": 0,
      "outputs": []
    },
    {
      "cell_type": "code",
      "metadata": {
        "id": "fK8w12CvMnOx",
        "colab_type": "code",
        "colab": {}
      },
      "source": [
        "def calculate_costs_gcp_tr(column):\n",
        "    \"\"\"\n",
        "    calculate the price of a batch operation of translation\n",
        "    on GCP\n",
        "    params:\n",
        "        column: a column of a pandas Df where every row contains text\n",
        "    return:\n",
        "        the total price of the translation/detection of all the column.\n",
        "    \"\"\"\n",
        "    len_serie = column.apply(lambda x: len(x))\n",
        "    total_chars = len_serie.sum()\n",
        "    print(total_chars)\n",
        "    price_per_char = 2e-05\n",
        "    total_price = total_chars*price_per_char\n",
        "    \n",
        "    return total_price"
      ],
      "execution_count": 0,
      "outputs": []
    },
    {
      "cell_type": "code",
      "metadata": {
        "id": "yNCg8NT6MuU7",
        "colab_type": "code",
        "colab": {}
      },
      "source": [
        ""
      ],
      "execution_count": 0,
      "outputs": []
    }
  ]
}